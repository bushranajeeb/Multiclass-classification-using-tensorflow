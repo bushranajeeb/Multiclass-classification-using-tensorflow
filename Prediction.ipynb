{
 "cells": [
  {
   "cell_type": "code",
   "execution_count": 2,
   "id": "b652c88d",
   "metadata": {},
   "outputs": [
    {
     "name": "stdout",
     "output_type": "stream",
     "text": [
      "[[0. 1. 0.]]\n",
      "Drinking\n",
      "[[0. 1. 0.]]\n",
      "Drinking\n",
      "[[0. 1. 0.]]\n",
      "Drinking\n",
      "[[1. 0. 0.]]\n",
      "Eating\n",
      "[[1. 0. 0.]]\n",
      "Eating\n",
      "[[1. 0. 0.]]\n",
      "Eating\n",
      "[[1.0659901e-22 0.0000000e+00 1.0000000e+00]]\n",
      "Pregnant\n",
      "[[0. 0. 1.]]\n",
      "Pregnant\n",
      "[[0. 0. 1.]]\n",
      "Pregnant\n"
     ]
    }
   ],
   "source": [
    "import glob\n",
    "import cv2\n",
    "import numpy as np\n",
    "import tensorflow as tf\n",
    "from tensorflow.keras.models import Sequential\n",
    "\n",
    "CATEGORIES = [\"Eating\", \"Drinking\", \"Pregnant\"]\n",
    "\n",
    "def prepare(filepath):\n",
    "    IMG_SIZE = 200  \n",
    "    img_array = cv2.imread(filepath, cv2.IMREAD_GRAYSCALE)\n",
    "    new_array = cv2.resize(img_array, (IMG_SIZE, IMG_SIZE))\n",
    "    return new_array.reshape(-1, IMG_SIZE, IMG_SIZE, 1)\n",
    "\n",
    "\n",
    "model = tf.keras.models.load_model(\"CNN.model\")\n",
    "\n",
    "for img in glob.glob(\"Testing/*.jpg\"):\n",
    "    n= cv2.imread(img)\n",
    "    \n",
    "\n",
    "    prediction = model.predict([prepare(img)])\n",
    "    print(prediction)  # will be a list in a list.\n",
    "\n",
    "    MaxPosition=np.argmax(prediction)  \n",
    "    prediction_label= CATEGORIES[MaxPosition]\n",
    "    print(prediction_label)\n",
    "   \n",
    "    \n",
    "    cv2.namedWindow(\"output\", cv2.WINDOW_NORMAL)\n",
    "    \n",
    "    ims = cv2.resize(n, (400, 200))\n",
    "    cv2.putText(ims, \"The camel is \" + prediction_label , (20, 100), cv2.FONT_HERSHEY_SIMPLEX, 1,\n",
    "                    (0, 0, 255), 2)\n",
    "    cv2.imshow('output', ims)\n",
    "    \n",
    "    cv2.waitKey(0)\n",
    "    \n",
    "cv2.destroyAllWindows()"
   ]
  },
  {
   "cell_type": "code",
   "execution_count": null,
   "id": "8e7440b1",
   "metadata": {},
   "outputs": [],
   "source": []
  }
 ],
 "metadata": {
  "kernelspec": {
   "display_name": "Python 3 (ipykernel)",
   "language": "python",
   "name": "python3"
  },
  "language_info": {
   "codemirror_mode": {
    "name": "ipython",
    "version": 3
   },
   "file_extension": ".py",
   "mimetype": "text/x-python",
   "name": "python",
   "nbconvert_exporter": "python",
   "pygments_lexer": "ipython3",
   "version": "3.9.7"
  }
 },
 "nbformat": 4,
 "nbformat_minor": 5
}
